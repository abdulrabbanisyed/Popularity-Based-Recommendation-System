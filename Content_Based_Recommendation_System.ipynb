{
 "cells": [
  {
   "cell_type": "markdown",
   "metadata": {},
   "source": [
    "## Content_Based_Recommendation_System"
   ]
  },
  {
   "cell_type": "markdown",
   "metadata": {},
   "source": [
    "### Cosine similarity calculation"
   ]
  },
  {
   "cell_type": "code",
   "execution_count": 161,
   "metadata": {},
   "outputs": [],
   "source": [
    "from math import *\n",
    "from math import sqrt"
   ]
  },
  {
   "cell_type": "code",
   "execution_count": 162,
   "metadata": {},
   "outputs": [],
   "source": [
    "def square(x):\n",
    "    return round(sqrt(sum([a * a for a in x])), 3)\n"
   ]
  },
  {
   "cell_type": "code",
   "execution_count": 163,
   "metadata": {},
   "outputs": [],
   "source": [
    "def cosine_similarity(x, y):\n",
    "    numerator = sum(a * b for a,b in zip(x,y))\n",
    "    denominator = square(x) * square(y)\n",
    "    return round(numerator / float(denominator), 3)"
   ]
  },
  {
   "cell_type": "code",
   "execution_count": 164,
   "metadata": {},
   "outputs": [
    {
     "data": {
      "text/plain": [
       "0.972"
      ]
     },
     "execution_count": 164,
     "metadata": {},
     "output_type": "execute_result"
    }
   ],
   "source": [
    "cosine_similarity([3,45,7,2], [2,54,13,15])"
   ]
  },
  {
   "cell_type": "markdown",
   "metadata": {},
   "source": [
    "### Neccessary libraries like cosine_similarity and countVecorizer to determine term frequency"
   ]
  },
  {
   "cell_type": "code",
   "execution_count": 165,
   "metadata": {},
   "outputs": [],
   "source": [
    "import pandas as pd\n",
    "from sklearn.metrics.pairwise import cosine_similarity\n",
    "from sklearn.feature_extraction.text import CountVectorizer"
   ]
  },
  {
   "cell_type": "code",
   "execution_count": 166,
   "metadata": {},
   "outputs": [
    {
     "data": {
      "text/html": [
       "<div>\n",
       "<style scoped>\n",
       "    .dataframe tbody tr th:only-of-type {\n",
       "        vertical-align: middle;\n",
       "    }\n",
       "\n",
       "    .dataframe tbody tr th {\n",
       "        vertical-align: top;\n",
       "    }\n",
       "\n",
       "    .dataframe thead th {\n",
       "        text-align: right;\n",
       "    }\n",
       "</style>\n",
       "<table border=\"1\" class=\"dataframe\">\n",
       "  <thead>\n",
       "    <tr style=\"text-align: right;\">\n",
       "      <th></th>\n",
       "      <th>Poster_Link</th>\n",
       "      <th>Series_Title</th>\n",
       "      <th>Released_Year</th>\n",
       "      <th>Certificate</th>\n",
       "      <th>Runtime</th>\n",
       "      <th>Genre</th>\n",
       "      <th>IMDB_Rating</th>\n",
       "      <th>Overview</th>\n",
       "      <th>Meta_score</th>\n",
       "      <th>Director</th>\n",
       "      <th>Star1</th>\n",
       "      <th>Star2</th>\n",
       "      <th>Star3</th>\n",
       "      <th>Star4</th>\n",
       "      <th>No_of_Votes</th>\n",
       "      <th>Gross</th>\n",
       "    </tr>\n",
       "  </thead>\n",
       "  <tbody>\n",
       "    <tr>\n",
       "      <th>0</th>\n",
       "      <td>https://m.media-amazon.com/images/M/MV5BMDFkYT...</td>\n",
       "      <td>The Shawshank Redemption</td>\n",
       "      <td>1994</td>\n",
       "      <td>A</td>\n",
       "      <td>142 min</td>\n",
       "      <td>Drama</td>\n",
       "      <td>9.3</td>\n",
       "      <td>Two imprisoned men bond over a number of years...</td>\n",
       "      <td>80.0</td>\n",
       "      <td>Frank Darabont</td>\n",
       "      <td>Tim Robbins</td>\n",
       "      <td>Morgan Freeman</td>\n",
       "      <td>Bob Gunton</td>\n",
       "      <td>William Sadler</td>\n",
       "      <td>2343110</td>\n",
       "      <td>28,341,469</td>\n",
       "    </tr>\n",
       "    <tr>\n",
       "      <th>1</th>\n",
       "      <td>https://m.media-amazon.com/images/M/MV5BM2MyNj...</td>\n",
       "      <td>The Godfather</td>\n",
       "      <td>1972</td>\n",
       "      <td>A</td>\n",
       "      <td>175 min</td>\n",
       "      <td>Crime, Drama</td>\n",
       "      <td>9.2</td>\n",
       "      <td>An organized crime dynasty's aging patriarch t...</td>\n",
       "      <td>100.0</td>\n",
       "      <td>Francis Ford Coppola</td>\n",
       "      <td>Marlon Brando</td>\n",
       "      <td>Al Pacino</td>\n",
       "      <td>James Caan</td>\n",
       "      <td>Diane Keaton</td>\n",
       "      <td>1620367</td>\n",
       "      <td>134,966,411</td>\n",
       "    </tr>\n",
       "    <tr>\n",
       "      <th>2</th>\n",
       "      <td>https://m.media-amazon.com/images/M/MV5BMTMxNT...</td>\n",
       "      <td>The Dark Knight</td>\n",
       "      <td>2008</td>\n",
       "      <td>UA</td>\n",
       "      <td>152 min</td>\n",
       "      <td>Action, Crime, Drama</td>\n",
       "      <td>9.0</td>\n",
       "      <td>When the menace known as the Joker wreaks havo...</td>\n",
       "      <td>84.0</td>\n",
       "      <td>Christopher Nolan</td>\n",
       "      <td>Christian Bale</td>\n",
       "      <td>Heath Ledger</td>\n",
       "      <td>Aaron Eckhart</td>\n",
       "      <td>Michael Caine</td>\n",
       "      <td>2303232</td>\n",
       "      <td>534,858,444</td>\n",
       "    </tr>\n",
       "    <tr>\n",
       "      <th>3</th>\n",
       "      <td>https://m.media-amazon.com/images/M/MV5BMWMwMG...</td>\n",
       "      <td>The Godfather: Part II</td>\n",
       "      <td>1974</td>\n",
       "      <td>A</td>\n",
       "      <td>202 min</td>\n",
       "      <td>Crime, Drama</td>\n",
       "      <td>9.0</td>\n",
       "      <td>The early life and career of Vito Corleone in ...</td>\n",
       "      <td>90.0</td>\n",
       "      <td>Francis Ford Coppola</td>\n",
       "      <td>Al Pacino</td>\n",
       "      <td>Robert De Niro</td>\n",
       "      <td>Robert Duvall</td>\n",
       "      <td>Diane Keaton</td>\n",
       "      <td>1129952</td>\n",
       "      <td>57,300,000</td>\n",
       "    </tr>\n",
       "    <tr>\n",
       "      <th>4</th>\n",
       "      <td>https://m.media-amazon.com/images/M/MV5BMWU4N2...</td>\n",
       "      <td>12 Angry Men</td>\n",
       "      <td>1957</td>\n",
       "      <td>U</td>\n",
       "      <td>96 min</td>\n",
       "      <td>Crime, Drama</td>\n",
       "      <td>9.0</td>\n",
       "      <td>A jury holdout attempts to prevent a miscarria...</td>\n",
       "      <td>96.0</td>\n",
       "      <td>Sidney Lumet</td>\n",
       "      <td>Henry Fonda</td>\n",
       "      <td>Lee J. Cobb</td>\n",
       "      <td>Martin Balsam</td>\n",
       "      <td>John Fiedler</td>\n",
       "      <td>689845</td>\n",
       "      <td>4,360,000</td>\n",
       "    </tr>\n",
       "  </tbody>\n",
       "</table>\n",
       "</div>"
      ],
      "text/plain": [
       "                                         Poster_Link  \\\n",
       "0  https://m.media-amazon.com/images/M/MV5BMDFkYT...   \n",
       "1  https://m.media-amazon.com/images/M/MV5BM2MyNj...   \n",
       "2  https://m.media-amazon.com/images/M/MV5BMTMxNT...   \n",
       "3  https://m.media-amazon.com/images/M/MV5BMWMwMG...   \n",
       "4  https://m.media-amazon.com/images/M/MV5BMWU4N2...   \n",
       "\n",
       "               Series_Title Released_Year Certificate  Runtime  \\\n",
       "0  The Shawshank Redemption          1994           A  142 min   \n",
       "1             The Godfather          1972           A  175 min   \n",
       "2           The Dark Knight          2008          UA  152 min   \n",
       "3    The Godfather: Part II          1974           A  202 min   \n",
       "4              12 Angry Men          1957           U   96 min   \n",
       "\n",
       "                  Genre  IMDB_Rating  \\\n",
       "0                 Drama          9.3   \n",
       "1          Crime, Drama          9.2   \n",
       "2  Action, Crime, Drama          9.0   \n",
       "3          Crime, Drama          9.0   \n",
       "4          Crime, Drama          9.0   \n",
       "\n",
       "                                            Overview  Meta_score  \\\n",
       "0  Two imprisoned men bond over a number of years...        80.0   \n",
       "1  An organized crime dynasty's aging patriarch t...       100.0   \n",
       "2  When the menace known as the Joker wreaks havo...        84.0   \n",
       "3  The early life and career of Vito Corleone in ...        90.0   \n",
       "4  A jury holdout attempts to prevent a miscarria...        96.0   \n",
       "\n",
       "               Director           Star1           Star2          Star3  \\\n",
       "0        Frank Darabont     Tim Robbins  Morgan Freeman     Bob Gunton   \n",
       "1  Francis Ford Coppola   Marlon Brando       Al Pacino     James Caan   \n",
       "2     Christopher Nolan  Christian Bale    Heath Ledger  Aaron Eckhart   \n",
       "3  Francis Ford Coppola       Al Pacino  Robert De Niro  Robert Duvall   \n",
       "4          Sidney Lumet     Henry Fonda     Lee J. Cobb  Martin Balsam   \n",
       "\n",
       "            Star4  No_of_Votes        Gross  \n",
       "0  William Sadler      2343110   28,341,469  \n",
       "1    Diane Keaton      1620367  134,966,411  \n",
       "2   Michael Caine      2303232  534,858,444  \n",
       "3    Diane Keaton      1129952   57,300,000  \n",
       "4    John Fiedler       689845    4,360,000  "
      ]
     },
     "execution_count": 166,
     "metadata": {},
     "output_type": "execute_result"
    }
   ],
   "source": [
    "df = pd.read_csv('your input data')\n",
    "df.head()"
   ]
  },
  {
   "cell_type": "markdown",
   "metadata": {},
   "source": [
    "### Taking only neccessary columns"
   ]
  },
  {
   "cell_type": "code",
   "execution_count": 167,
   "metadata": {},
   "outputs": [
    {
     "data": {
      "text/html": [
       "<div>\n",
       "<style scoped>\n",
       "    .dataframe tbody tr th:only-of-type {\n",
       "        vertical-align: middle;\n",
       "    }\n",
       "\n",
       "    .dataframe tbody tr th {\n",
       "        vertical-align: top;\n",
       "    }\n",
       "\n",
       "    .dataframe thead th {\n",
       "        text-align: right;\n",
       "    }\n",
       "</style>\n",
       "<table border=\"1\" class=\"dataframe\">\n",
       "  <thead>\n",
       "    <tr style=\"text-align: right;\">\n",
       "      <th></th>\n",
       "      <th>Series_Title</th>\n",
       "      <th>Genre</th>\n",
       "      <th>Overview</th>\n",
       "      <th>Director</th>\n",
       "      <th>Star1</th>\n",
       "      <th>Star2</th>\n",
       "      <th>Star3</th>\n",
       "    </tr>\n",
       "  </thead>\n",
       "  <tbody>\n",
       "    <tr>\n",
       "      <th>0</th>\n",
       "      <td>The Shawshank Redemption</td>\n",
       "      <td>Drama</td>\n",
       "      <td>Two imprisoned men bond over a number of years...</td>\n",
       "      <td>Frank Darabont</td>\n",
       "      <td>Tim Robbins</td>\n",
       "      <td>Morgan Freeman</td>\n",
       "      <td>Bob Gunton</td>\n",
       "    </tr>\n",
       "    <tr>\n",
       "      <th>1</th>\n",
       "      <td>The Godfather</td>\n",
       "      <td>Crime, Drama</td>\n",
       "      <td>An organized crime dynasty's aging patriarch t...</td>\n",
       "      <td>Francis Ford Coppola</td>\n",
       "      <td>Marlon Brando</td>\n",
       "      <td>Al Pacino</td>\n",
       "      <td>James Caan</td>\n",
       "    </tr>\n",
       "    <tr>\n",
       "      <th>2</th>\n",
       "      <td>The Dark Knight</td>\n",
       "      <td>Action, Crime, Drama</td>\n",
       "      <td>When the menace known as the Joker wreaks havo...</td>\n",
       "      <td>Christopher Nolan</td>\n",
       "      <td>Christian Bale</td>\n",
       "      <td>Heath Ledger</td>\n",
       "      <td>Aaron Eckhart</td>\n",
       "    </tr>\n",
       "    <tr>\n",
       "      <th>3</th>\n",
       "      <td>The Godfather: Part II</td>\n",
       "      <td>Crime, Drama</td>\n",
       "      <td>The early life and career of Vito Corleone in ...</td>\n",
       "      <td>Francis Ford Coppola</td>\n",
       "      <td>Al Pacino</td>\n",
       "      <td>Robert De Niro</td>\n",
       "      <td>Robert Duvall</td>\n",
       "    </tr>\n",
       "    <tr>\n",
       "      <th>4</th>\n",
       "      <td>12 Angry Men</td>\n",
       "      <td>Crime, Drama</td>\n",
       "      <td>A jury holdout attempts to prevent a miscarria...</td>\n",
       "      <td>Sidney Lumet</td>\n",
       "      <td>Henry Fonda</td>\n",
       "      <td>Lee J. Cobb</td>\n",
       "      <td>Martin Balsam</td>\n",
       "    </tr>\n",
       "    <tr>\n",
       "      <th>...</th>\n",
       "      <td>...</td>\n",
       "      <td>...</td>\n",
       "      <td>...</td>\n",
       "      <td>...</td>\n",
       "      <td>...</td>\n",
       "      <td>...</td>\n",
       "      <td>...</td>\n",
       "    </tr>\n",
       "    <tr>\n",
       "      <th>995</th>\n",
       "      <td>Breakfast at Tiffany's</td>\n",
       "      <td>Comedy, Drama, Romance</td>\n",
       "      <td>A young New York socialite becomes interested ...</td>\n",
       "      <td>Blake Edwards</td>\n",
       "      <td>Audrey Hepburn</td>\n",
       "      <td>George Peppard</td>\n",
       "      <td>Patricia Neal</td>\n",
       "    </tr>\n",
       "    <tr>\n",
       "      <th>996</th>\n",
       "      <td>Giant</td>\n",
       "      <td>Drama, Western</td>\n",
       "      <td>Sprawling epic covering the life of a Texas ca...</td>\n",
       "      <td>George Stevens</td>\n",
       "      <td>Elizabeth Taylor</td>\n",
       "      <td>Rock Hudson</td>\n",
       "      <td>James Dean</td>\n",
       "    </tr>\n",
       "    <tr>\n",
       "      <th>997</th>\n",
       "      <td>From Here to Eternity</td>\n",
       "      <td>Drama, Romance, War</td>\n",
       "      <td>In Hawaii in 1941, a private is cruelly punish...</td>\n",
       "      <td>Fred Zinnemann</td>\n",
       "      <td>Burt Lancaster</td>\n",
       "      <td>Montgomery Clift</td>\n",
       "      <td>Deborah Kerr</td>\n",
       "    </tr>\n",
       "    <tr>\n",
       "      <th>998</th>\n",
       "      <td>Lifeboat</td>\n",
       "      <td>Drama, War</td>\n",
       "      <td>Several survivors of a torpedoed merchant ship...</td>\n",
       "      <td>Alfred Hitchcock</td>\n",
       "      <td>Tallulah Bankhead</td>\n",
       "      <td>John Hodiak</td>\n",
       "      <td>Walter Slezak</td>\n",
       "    </tr>\n",
       "    <tr>\n",
       "      <th>999</th>\n",
       "      <td>The 39 Steps</td>\n",
       "      <td>Crime, Mystery, Thriller</td>\n",
       "      <td>A man in London tries to help a counter-espion...</td>\n",
       "      <td>Alfred Hitchcock</td>\n",
       "      <td>Robert Donat</td>\n",
       "      <td>Madeleine Carroll</td>\n",
       "      <td>Lucie Mannheim</td>\n",
       "    </tr>\n",
       "  </tbody>\n",
       "</table>\n",
       "<p>1000 rows × 7 columns</p>\n",
       "</div>"
      ],
      "text/plain": [
       "                 Series_Title                     Genre  \\\n",
       "0    The Shawshank Redemption                     Drama   \n",
       "1               The Godfather              Crime, Drama   \n",
       "2             The Dark Knight      Action, Crime, Drama   \n",
       "3      The Godfather: Part II              Crime, Drama   \n",
       "4                12 Angry Men              Crime, Drama   \n",
       "..                        ...                       ...   \n",
       "995    Breakfast at Tiffany's    Comedy, Drama, Romance   \n",
       "996                     Giant            Drama, Western   \n",
       "997     From Here to Eternity       Drama, Romance, War   \n",
       "998                  Lifeboat                Drama, War   \n",
       "999              The 39 Steps  Crime, Mystery, Thriller   \n",
       "\n",
       "                                              Overview              Director  \\\n",
       "0    Two imprisoned men bond over a number of years...        Frank Darabont   \n",
       "1    An organized crime dynasty's aging patriarch t...  Francis Ford Coppola   \n",
       "2    When the menace known as the Joker wreaks havo...     Christopher Nolan   \n",
       "3    The early life and career of Vito Corleone in ...  Francis Ford Coppola   \n",
       "4    A jury holdout attempts to prevent a miscarria...          Sidney Lumet   \n",
       "..                                                 ...                   ...   \n",
       "995  A young New York socialite becomes interested ...         Blake Edwards   \n",
       "996  Sprawling epic covering the life of a Texas ca...        George Stevens   \n",
       "997  In Hawaii in 1941, a private is cruelly punish...        Fred Zinnemann   \n",
       "998  Several survivors of a torpedoed merchant ship...      Alfred Hitchcock   \n",
       "999  A man in London tries to help a counter-espion...      Alfred Hitchcock   \n",
       "\n",
       "                 Star1              Star2           Star3  \n",
       "0          Tim Robbins     Morgan Freeman      Bob Gunton  \n",
       "1        Marlon Brando          Al Pacino      James Caan  \n",
       "2       Christian Bale       Heath Ledger   Aaron Eckhart  \n",
       "3            Al Pacino     Robert De Niro   Robert Duvall  \n",
       "4          Henry Fonda        Lee J. Cobb   Martin Balsam  \n",
       "..                 ...                ...             ...  \n",
       "995     Audrey Hepburn     George Peppard   Patricia Neal  \n",
       "996   Elizabeth Taylor        Rock Hudson      James Dean  \n",
       "997     Burt Lancaster   Montgomery Clift    Deborah Kerr  \n",
       "998  Tallulah Bankhead        John Hodiak   Walter Slezak  \n",
       "999       Robert Donat  Madeleine Carroll  Lucie Mannheim  \n",
       "\n",
       "[1000 rows x 7 columns]"
      ]
     },
     "execution_count": 167,
     "metadata": {},
     "output_type": "execute_result"
    }
   ],
   "source": [
    "df = df[['Series_Title', 'Genre', 'Overview', 'Director', 'Star1', 'Star2', 'Star3']]\n",
    "df"
   ]
  },
  {
   "cell_type": "markdown",
   "metadata": {},
   "source": [
    "### Converting to all lower case and splitting for data preprocessing"
   ]
  },
  {
   "cell_type": "code",
   "execution_count": 168,
   "metadata": {},
   "outputs": [
    {
     "data": {
      "text/plain": [
       "0                           [drama]\n",
       "1                   [crime,  drama]\n",
       "2          [action,  crime,  drama]\n",
       "3                   [crime,  drama]\n",
       "4                   [crime,  drama]\n",
       "                   ...             \n",
       "995      [comedy,  drama,  romance]\n",
       "996               [drama,  western]\n",
       "997         [drama,  romance,  war]\n",
       "998                   [drama,  war]\n",
       "999    [crime,  mystery,  thriller]\n",
       "Name: Genre, Length: 1000, dtype: object"
      ]
     },
     "execution_count": 168,
     "metadata": {},
     "output_type": "execute_result"
    }
   ],
   "source": [
    "df['Genre'] = df['Genre'].map(lambda x : x.lower().split(','))\n",
    "df['Genre']"
   ]
  },
  {
   "cell_type": "markdown",
   "metadata": {},
   "source": [
    "### Combining the all three star columns into one and separating them with comma"
   ]
  },
  {
   "cell_type": "code",
   "execution_count": 169,
   "metadata": {},
   "outputs": [
    {
     "data": {
      "text/plain": [
       "0              Tim Robbins,Morgan Freeman,Bob Gunton\n",
       "1                 Marlon Brando,Al Pacino,James Caan\n",
       "2          Christian Bale,Heath Ledger,Aaron Eckhart\n",
       "3             Al Pacino,Robert De Niro,Robert Duvall\n",
       "4              Henry Fonda,Lee J. Cobb,Martin Balsam\n",
       "                           ...                      \n",
       "995      Audrey Hepburn,George Peppard,Patricia Neal\n",
       "996          Elizabeth Taylor,Rock Hudson,James Dean\n",
       "997     Burt Lancaster,Montgomery Clift,Deborah Kerr\n",
       "998      Tallulah Bankhead,John Hodiak,Walter Slezak\n",
       "999    Robert Donat,Madeleine Carroll,Lucie Mannheim\n",
       "Name: Actors, Length: 1000, dtype: object"
      ]
     },
     "execution_count": 169,
     "metadata": {},
     "output_type": "execute_result"
    }
   ],
   "source": [
    "df[\"Actors\"] = df[\"Star1\"].str.cat(df[[\"Star2\", \"Star3\"]].astype(str), sep=\",\")\n",
    "df['Actors']"
   ]
  },
  {
   "cell_type": "code",
   "execution_count": 170,
   "metadata": {},
   "outputs": [
    {
     "data": {
      "text/plain": [
       "0             [Frank, Darabont]\n",
       "1      [Francis, Ford, Coppola]\n",
       "2          [Christopher, Nolan]\n",
       "3      [Francis, Ford, Coppola]\n",
       "4               [Sidney, Lumet]\n",
       "                 ...           \n",
       "995            [Blake, Edwards]\n",
       "996           [George, Stevens]\n",
       "997           [Fred, Zinnemann]\n",
       "998         [Alfred, Hitchcock]\n",
       "999         [Alfred, Hitchcock]\n",
       "Name: Director, Length: 1000, dtype: object"
      ]
     },
     "execution_count": 170,
     "metadata": {},
     "output_type": "execute_result"
    }
   ],
   "source": [
    "df['Director'] = df['Director'].map(lambda x: x.split(' '))\n",
    "df['Director']"
   ]
  },
  {
   "cell_type": "code",
   "execution_count": 171,
   "metadata": {},
   "outputs": [],
   "source": [
    "df.drop(columns=['Star1','Star2','Star3'], inplace = True)"
   ]
  },
  {
   "cell_type": "code",
   "execution_count": 173,
   "metadata": {},
   "outputs": [],
   "source": [
    "df['Actors'] = df['Actors'].apply(lambda actors: actors.lower().replace(',', '').replace(' ', ''))"
   ]
  },
  {
   "cell_type": "code",
   "execution_count": 175,
   "metadata": {},
   "outputs": [],
   "source": [
    "df['Director'] = df['Director'].apply(lambda directors: ''.join(directors))"
   ]
  },
  {
   "cell_type": "code",
   "execution_count": 177,
   "metadata": {},
   "outputs": [
    {
     "name": "stdout",
     "output_type": "stream",
     "text": [
      "Defaulting to user installation because normal site-packages is not writeable\n",
      "Requirement already satisfied: rake_nltk in /Users/abdulrabbani/Library/Python/3.9/lib/python/site-packages (1.0.6)\n",
      "Requirement already satisfied: nltk<4.0.0,>=3.6.2 in /Users/abdulrabbani/Library/Python/3.9/lib/python/site-packages (from rake_nltk) (3.8.1)\n",
      "Requirement already satisfied: click in /Users/abdulrabbani/Library/Python/3.9/lib/python/site-packages (from nltk<4.0.0,>=3.6.2->rake_nltk) (8.1.7)\n",
      "Requirement already satisfied: joblib in /Users/abdulrabbani/Library/Python/3.9/lib/python/site-packages (from nltk<4.0.0,>=3.6.2->rake_nltk) (1.4.2)\n",
      "Requirement already satisfied: regex>=2021.8.3 in /Users/abdulrabbani/Library/Python/3.9/lib/python/site-packages (from nltk<4.0.0,>=3.6.2->rake_nltk) (2024.7.24)\n",
      "Requirement already satisfied: tqdm in /Users/abdulrabbani/Library/Python/3.9/lib/python/site-packages (from nltk<4.0.0,>=3.6.2->rake_nltk) (4.66.4)\n",
      "\n",
      "\u001b[1m[\u001b[0m\u001b[34;49mnotice\u001b[0m\u001b[1;39;49m]\u001b[0m\u001b[39;49m A new release of pip is available: \u001b[0m\u001b[31;49m24.0\u001b[0m\u001b[39;49m -> \u001b[0m\u001b[32;49m24.1.2\u001b[0m\n",
      "\u001b[1m[\u001b[0m\u001b[34;49mnotice\u001b[0m\u001b[1;39;49m]\u001b[0m\u001b[39;49m To update, run: \u001b[0m\u001b[32;49m/Library/Developer/CommandLineTools/usr/bin/python3 -m pip install --upgrade pip\u001b[0m\n",
      "Note: you may need to restart the kernel to use updated packages.\n"
     ]
    }
   ],
   "source": [
    "pip install rake_nltk"
   ]
  },
  {
   "cell_type": "markdown",
   "metadata": {},
   "source": [
    "### Importing the neccessary libaraies to extract keywords from the text"
   ]
  },
  {
   "cell_type": "code",
   "execution_count": 178,
   "metadata": {},
   "outputs": [
    {
     "name": "stderr",
     "output_type": "stream",
     "text": [
      "[nltk_data] Downloading package stopwords to\n",
      "[nltk_data]     /Users/abdulrabbani/nltk_data...\n",
      "[nltk_data]   Package stopwords is already up-to-date!\n",
      "[nltk_data] Downloading package punkt to\n",
      "[nltk_data]     /Users/abdulrabbani/nltk_data...\n",
      "[nltk_data]   Package punkt is already up-to-date!\n"
     ]
    },
    {
     "data": {
      "text/plain": [
       "True"
      ]
     },
     "execution_count": 178,
     "metadata": {},
     "output_type": "execute_result"
    }
   ],
   "source": [
    "import rake_nltk\n",
    "from rake_nltk import Rake\n",
    "import nltk\n",
    "nltk.download('stopwords')\n",
    "nltk.download('punkt')"
   ]
  },
  {
   "cell_type": "code",
   "execution_count": 179,
   "metadata": {},
   "outputs": [],
   "source": [
    "# Intialising a new columns \"Keywords\"\n",
    "df['Keywords'] = ''\n",
    "\n",
    "for index, rows in df.iterrows():\n",
    "    plot = rows['Overview']\n",
    "    # Instantiating Rake, by default it uses english stopwords from nltk and discards punctuation characaters\n",
    "    #RAKE (Rapid Automatic Keyword Extraction): RAKE is an algorithm that extracts keywords by splitting text into words, \n",
    "    #removing stopwords, and calculating the co-occurrence of words.\n",
    "    r = Rake()\n",
    "\n",
    "    r.extract_keywords_from_text(plot)\n",
    "    #Getting the word dictionary with keywords and their scores\n",
    "    keywords_dictionary_score = r.get_word_degrees()\n",
    "\n",
    "    df.at[index, 'Keywords'] = list(keywords_dictionary_score.keys())\n"
   ]
  },
  {
   "cell_type": "code",
   "execution_count": 180,
   "metadata": {},
   "outputs": [
    {
     "data": {
      "text/plain": [
       "defaultdict(<function rake_nltk.rake.Rake._build_word_co_occurance_graph.<locals>.<lambda>()>,\n",
       "            {'man': 4,\n",
       "             'london': 2,\n",
       "             'tries': 2,\n",
       "             'help': 1,\n",
       "             'counter': 1,\n",
       "             'espionage': 2,\n",
       "             'agent': 3,\n",
       "             'killed': 1,\n",
       "             'stands': 3,\n",
       "             'accused': 3,\n",
       "             'must': 2,\n",
       "             'go': 2,\n",
       "             'run': 1,\n",
       "             'save': 1,\n",
       "             'stop': 1,\n",
       "             'spy': 2,\n",
       "             'ring': 2,\n",
       "             'trying': 1,\n",
       "             'steal': 4,\n",
       "             'top': 4,\n",
       "             'secret': 4,\n",
       "             'information': 4})"
      ]
     },
     "execution_count": 180,
     "metadata": {},
     "output_type": "execute_result"
    }
   ],
   "source": [
    "keywords_dictionary_score"
   ]
  },
  {
   "cell_type": "code",
   "execution_count": 181,
   "metadata": {},
   "outputs": [
    {
     "data": {
      "text/plain": [
       "0      [two, imprisoned, men, bond, number, years, fi...\n",
       "1      [organized, crime, dynasty, aging, patriarch, ...\n",
       "2      [menace, known, joker, wreaks, havoc, chaos, p...\n",
       "3      [early, life, career, vito, corleone, 1920s, n...\n",
       "4      [jury, holdout, attempts, prevent, miscarriage...\n",
       "                             ...                        \n",
       "995    [young, new, york, socialite, becomes, interes...\n",
       "996    [sprawling, epic, covering, life, texas, cattl...\n",
       "997    [hawaii, 1941, private, cruelly, punished, box...\n",
       "998    [several, survivors, torpedoed, merchant, ship...\n",
       "999    [man, london, tries, help, counter, espionage,...\n",
       "Name: Keywords, Length: 1000, dtype: object"
      ]
     },
     "execution_count": 181,
     "metadata": {},
     "output_type": "execute_result"
    }
   ],
   "source": [
    "df['Keywords']"
   ]
  },
  {
   "cell_type": "code",
   "execution_count": 182,
   "metadata": {},
   "outputs": [
    {
     "data": {
      "text/html": [
       "<div>\n",
       "<style scoped>\n",
       "    .dataframe tbody tr th:only-of-type {\n",
       "        vertical-align: middle;\n",
       "    }\n",
       "\n",
       "    .dataframe tbody tr th {\n",
       "        vertical-align: top;\n",
       "    }\n",
       "\n",
       "    .dataframe thead th {\n",
       "        text-align: right;\n",
       "    }\n",
       "</style>\n",
       "<table border=\"1\" class=\"dataframe\">\n",
       "  <thead>\n",
       "    <tr style=\"text-align: right;\">\n",
       "      <th></th>\n",
       "      <th>Genre</th>\n",
       "      <th>Overview</th>\n",
       "      <th>Director</th>\n",
       "      <th>Actors</th>\n",
       "      <th>Keywords</th>\n",
       "    </tr>\n",
       "    <tr>\n",
       "      <th>Series_Title</th>\n",
       "      <th></th>\n",
       "      <th></th>\n",
       "      <th></th>\n",
       "      <th></th>\n",
       "      <th></th>\n",
       "    </tr>\n",
       "  </thead>\n",
       "  <tbody>\n",
       "    <tr>\n",
       "      <th>The Shawshank Redemption</th>\n",
       "      <td>[drama]</td>\n",
       "      <td>Two imprisoned men bond over a number of years...</td>\n",
       "      <td>FrankDarabont</td>\n",
       "      <td>timrobbinsmorganfreemanbobgunton</td>\n",
       "      <td>[two, imprisoned, men, bond, number, years, fi...</td>\n",
       "    </tr>\n",
       "    <tr>\n",
       "      <th>The Godfather</th>\n",
       "      <td>[crime,  drama]</td>\n",
       "      <td>An organized crime dynasty's aging patriarch t...</td>\n",
       "      <td>FrancisFordCoppola</td>\n",
       "      <td>marlonbrandoalpacinojamescaan</td>\n",
       "      <td>[organized, crime, dynasty, aging, patriarch, ...</td>\n",
       "    </tr>\n",
       "    <tr>\n",
       "      <th>The Dark Knight</th>\n",
       "      <td>[action,  crime,  drama]</td>\n",
       "      <td>When the menace known as the Joker wreaks havo...</td>\n",
       "      <td>ChristopherNolan</td>\n",
       "      <td>christianbaleheathledgeraaroneckhart</td>\n",
       "      <td>[menace, known, joker, wreaks, havoc, chaos, p...</td>\n",
       "    </tr>\n",
       "    <tr>\n",
       "      <th>The Godfather: Part II</th>\n",
       "      <td>[crime,  drama]</td>\n",
       "      <td>The early life and career of Vito Corleone in ...</td>\n",
       "      <td>FrancisFordCoppola</td>\n",
       "      <td>alpacinorobertdenirorobertduvall</td>\n",
       "      <td>[early, life, career, vito, corleone, 1920s, n...</td>\n",
       "    </tr>\n",
       "    <tr>\n",
       "      <th>12 Angry Men</th>\n",
       "      <td>[crime,  drama]</td>\n",
       "      <td>A jury holdout attempts to prevent a miscarria...</td>\n",
       "      <td>SidneyLumet</td>\n",
       "      <td>henryfondaleej.cobbmartinbalsam</td>\n",
       "      <td>[jury, holdout, attempts, prevent, miscarriage...</td>\n",
       "    </tr>\n",
       "    <tr>\n",
       "      <th>...</th>\n",
       "      <td>...</td>\n",
       "      <td>...</td>\n",
       "      <td>...</td>\n",
       "      <td>...</td>\n",
       "      <td>...</td>\n",
       "    </tr>\n",
       "    <tr>\n",
       "      <th>Breakfast at Tiffany's</th>\n",
       "      <td>[comedy,  drama,  romance]</td>\n",
       "      <td>A young New York socialite becomes interested ...</td>\n",
       "      <td>BlakeEdwards</td>\n",
       "      <td>audreyhepburngeorgepeppardpatricianeal</td>\n",
       "      <td>[young, new, york, socialite, becomes, interes...</td>\n",
       "    </tr>\n",
       "    <tr>\n",
       "      <th>Giant</th>\n",
       "      <td>[drama,  western]</td>\n",
       "      <td>Sprawling epic covering the life of a Texas ca...</td>\n",
       "      <td>GeorgeStevens</td>\n",
       "      <td>elizabethtaylorrockhudsonjamesdean</td>\n",
       "      <td>[sprawling, epic, covering, life, texas, cattl...</td>\n",
       "    </tr>\n",
       "    <tr>\n",
       "      <th>From Here to Eternity</th>\n",
       "      <td>[drama,  romance,  war]</td>\n",
       "      <td>In Hawaii in 1941, a private is cruelly punish...</td>\n",
       "      <td>FredZinnemann</td>\n",
       "      <td>burtlancastermontgomerycliftdeborahkerr</td>\n",
       "      <td>[hawaii, 1941, private, cruelly, punished, box...</td>\n",
       "    </tr>\n",
       "    <tr>\n",
       "      <th>Lifeboat</th>\n",
       "      <td>[drama,  war]</td>\n",
       "      <td>Several survivors of a torpedoed merchant ship...</td>\n",
       "      <td>AlfredHitchcock</td>\n",
       "      <td>tallulahbankheadjohnhodiakwalterslezak</td>\n",
       "      <td>[several, survivors, torpedoed, merchant, ship...</td>\n",
       "    </tr>\n",
       "    <tr>\n",
       "      <th>The 39 Steps</th>\n",
       "      <td>[crime,  mystery,  thriller]</td>\n",
       "      <td>A man in London tries to help a counter-espion...</td>\n",
       "      <td>AlfredHitchcock</td>\n",
       "      <td>robertdonatmadeleinecarrollluciemannheim</td>\n",
       "      <td>[man, london, tries, help, counter, espionage,...</td>\n",
       "    </tr>\n",
       "  </tbody>\n",
       "</table>\n",
       "<p>1000 rows × 5 columns</p>\n",
       "</div>"
      ],
      "text/plain": [
       "                                                 Genre  \\\n",
       "Series_Title                                             \n",
       "The Shawshank Redemption                       [drama]   \n",
       "The Godfather                          [crime,  drama]   \n",
       "The Dark Knight               [action,  crime,  drama]   \n",
       "The Godfather: Part II                 [crime,  drama]   \n",
       "12 Angry Men                           [crime,  drama]   \n",
       "...                                                ...   \n",
       "Breakfast at Tiffany's      [comedy,  drama,  romance]   \n",
       "Giant                                [drama,  western]   \n",
       "From Here to Eternity          [drama,  romance,  war]   \n",
       "Lifeboat                                 [drama,  war]   \n",
       "The 39 Steps              [crime,  mystery,  thriller]   \n",
       "\n",
       "                                                                   Overview  \\\n",
       "Series_Title                                                                  \n",
       "The Shawshank Redemption  Two imprisoned men bond over a number of years...   \n",
       "The Godfather             An organized crime dynasty's aging patriarch t...   \n",
       "The Dark Knight           When the menace known as the Joker wreaks havo...   \n",
       "The Godfather: Part II    The early life and career of Vito Corleone in ...   \n",
       "12 Angry Men              A jury holdout attempts to prevent a miscarria...   \n",
       "...                                                                     ...   \n",
       "Breakfast at Tiffany's    A young New York socialite becomes interested ...   \n",
       "Giant                     Sprawling epic covering the life of a Texas ca...   \n",
       "From Here to Eternity     In Hawaii in 1941, a private is cruelly punish...   \n",
       "Lifeboat                  Several survivors of a torpedoed merchant ship...   \n",
       "The 39 Steps              A man in London tries to help a counter-espion...   \n",
       "\n",
       "                                    Director  \\\n",
       "Series_Title                                   \n",
       "The Shawshank Redemption       FrankDarabont   \n",
       "The Godfather             FrancisFordCoppola   \n",
       "The Dark Knight             ChristopherNolan   \n",
       "The Godfather: Part II    FrancisFordCoppola   \n",
       "12 Angry Men                     SidneyLumet   \n",
       "...                                      ...   \n",
       "Breakfast at Tiffany's          BlakeEdwards   \n",
       "Giant                          GeorgeStevens   \n",
       "From Here to Eternity          FredZinnemann   \n",
       "Lifeboat                     AlfredHitchcock   \n",
       "The 39 Steps                 AlfredHitchcock   \n",
       "\n",
       "                                                            Actors  \\\n",
       "Series_Title                                                         \n",
       "The Shawshank Redemption          timrobbinsmorganfreemanbobgunton   \n",
       "The Godfather                        marlonbrandoalpacinojamescaan   \n",
       "The Dark Knight               christianbaleheathledgeraaroneckhart   \n",
       "The Godfather: Part II            alpacinorobertdenirorobertduvall   \n",
       "12 Angry Men                       henryfondaleej.cobbmartinbalsam   \n",
       "...                                                            ...   \n",
       "Breakfast at Tiffany's      audreyhepburngeorgepeppardpatricianeal   \n",
       "Giant                           elizabethtaylorrockhudsonjamesdean   \n",
       "From Here to Eternity      burtlancastermontgomerycliftdeborahkerr   \n",
       "Lifeboat                    tallulahbankheadjohnhodiakwalterslezak   \n",
       "The 39 Steps              robertdonatmadeleinecarrollluciemannheim   \n",
       "\n",
       "                                                                   Keywords  \n",
       "Series_Title                                                                 \n",
       "The Shawshank Redemption  [two, imprisoned, men, bond, number, years, fi...  \n",
       "The Godfather             [organized, crime, dynasty, aging, patriarch, ...  \n",
       "The Dark Knight           [menace, known, joker, wreaks, havoc, chaos, p...  \n",
       "The Godfather: Part II    [early, life, career, vito, corleone, 1920s, n...  \n",
       "12 Angry Men              [jury, holdout, attempts, prevent, miscarriage...  \n",
       "...                                                                     ...  \n",
       "Breakfast at Tiffany's    [young, new, york, socialite, becomes, interes...  \n",
       "Giant                     [sprawling, epic, covering, life, texas, cattl...  \n",
       "From Here to Eternity     [hawaii, 1941, private, cruelly, punished, box...  \n",
       "Lifeboat                  [several, survivors, torpedoed, merchant, ship...  \n",
       "The 39 Steps              [man, london, tries, help, counter, espionage,...  \n",
       "\n",
       "[1000 rows x 5 columns]"
      ]
     },
     "execution_count": 182,
     "metadata": {},
     "output_type": "execute_result"
    }
   ],
   "source": [
    "df.set_index('Series_Title', inplace= True)\n",
    "df"
   ]
  },
  {
   "cell_type": "markdown",
   "metadata": {},
   "source": [
    "### Bag of words containg everything as one text to initilaise the count vectorizer"
   ]
  },
  {
   "cell_type": "code",
   "execution_count": 183,
   "metadata": {},
   "outputs": [],
   "source": [
    "df['bag of words'] = ''\n",
    "columns = df.columns\n",
    "for index, rows in df.iterrows():\n",
    "    words = ''\n",
    "    for col in columns:\n",
    "        if col != 'Director':\n",
    "            words = words + ''.join(rows[col])\n",
    "        else:\n",
    "            words = words + rows[col] + ' '\n",
    "    df.at[index,'bag of words'] = words\n",
    "\n"
   ]
  },
  {
   "cell_type": "code",
   "execution_count": 186,
   "metadata": {},
   "outputs": [
    {
     "data": {
      "text/html": [
       "<div>\n",
       "<style scoped>\n",
       "    .dataframe tbody tr th:only-of-type {\n",
       "        vertical-align: middle;\n",
       "    }\n",
       "\n",
       "    .dataframe tbody tr th {\n",
       "        vertical-align: top;\n",
       "    }\n",
       "\n",
       "    .dataframe thead th {\n",
       "        text-align: right;\n",
       "    }\n",
       "</style>\n",
       "<table border=\"1\" class=\"dataframe\">\n",
       "  <thead>\n",
       "    <tr style=\"text-align: right;\">\n",
       "      <th></th>\n",
       "      <th>bag of words</th>\n",
       "    </tr>\n",
       "    <tr>\n",
       "      <th>Series_Title</th>\n",
       "      <th></th>\n",
       "    </tr>\n",
       "  </thead>\n",
       "  <tbody>\n",
       "    <tr>\n",
       "      <th>The Shawshank Redemption</th>\n",
       "      <td>dramatwo imprisoned men bond over a number of ...</td>\n",
       "    </tr>\n",
       "    <tr>\n",
       "      <th>The Godfather</th>\n",
       "      <td>crime dramaan organized crime dynasty's aging ...</td>\n",
       "    </tr>\n",
       "    <tr>\n",
       "      <th>The Dark Knight</th>\n",
       "      <td>action crime dramawhen the menace known as the...</td>\n",
       "    </tr>\n",
       "    <tr>\n",
       "      <th>The Godfather: Part II</th>\n",
       "      <td>crime dramathe early life and career of vito c...</td>\n",
       "    </tr>\n",
       "    <tr>\n",
       "      <th>12 Angry Men</th>\n",
       "      <td>crime dramaa jury holdout attempts to prevent ...</td>\n",
       "    </tr>\n",
       "    <tr>\n",
       "      <th>...</th>\n",
       "      <td>...</td>\n",
       "    </tr>\n",
       "    <tr>\n",
       "      <th>Breakfast at Tiffany's</th>\n",
       "      <td>comedy drama romancea young new york socialite...</td>\n",
       "    </tr>\n",
       "    <tr>\n",
       "      <th>Giant</th>\n",
       "      <td>drama westernsprawling epic covering the life ...</td>\n",
       "    </tr>\n",
       "    <tr>\n",
       "      <th>From Here to Eternity</th>\n",
       "      <td>drama romance warin hawaii in 1941, a private ...</td>\n",
       "    </tr>\n",
       "    <tr>\n",
       "      <th>Lifeboat</th>\n",
       "      <td>drama warseveral survivors of a torpedoed merc...</td>\n",
       "    </tr>\n",
       "    <tr>\n",
       "      <th>The 39 Steps</th>\n",
       "      <td>crime mystery thrillera man in london tries to...</td>\n",
       "    </tr>\n",
       "  </tbody>\n",
       "</table>\n",
       "<p>1000 rows × 1 columns</p>\n",
       "</div>"
      ],
      "text/plain": [
       "                                                               bag of words\n",
       "Series_Title                                                               \n",
       "The Shawshank Redemption  dramatwo imprisoned men bond over a number of ...\n",
       "The Godfather             crime dramaan organized crime dynasty's aging ...\n",
       "The Dark Knight           action crime dramawhen the menace known as the...\n",
       "The Godfather: Part II    crime dramathe early life and career of vito c...\n",
       "12 Angry Men              crime dramaa jury holdout attempts to prevent ...\n",
       "...                                                                     ...\n",
       "Breakfast at Tiffany's    comedy drama romancea young new york socialite...\n",
       "Giant                     drama westernsprawling epic covering the life ...\n",
       "From Here to Eternity     drama romance warin hawaii in 1941, a private ...\n",
       "Lifeboat                  drama warseveral survivors of a torpedoed merc...\n",
       "The 39 Steps              crime mystery thrillera man in london tries to...\n",
       "\n",
       "[1000 rows x 1 columns]"
      ]
     },
     "execution_count": 186,
     "metadata": {},
     "output_type": "execute_result"
    }
   ],
   "source": [
    "df = df.drop(columns=[col for col in df.columns if col != 'bag of words'])\n",
    "df['bag of words'] = df['bag of words'].apply(lambda x : x.lower())\n",
    "df"
   ]
  },
  {
   "cell_type": "markdown",
   "metadata": {},
   "source": [
    "### Intializing the count vectorizer on bag of words to deterimine the term frequency of words in the text"
   ]
  },
  {
   "cell_type": "code",
   "execution_count": 187,
   "metadata": {},
   "outputs": [],
   "source": [
    "count = CountVectorizer()\n",
    "count_matrix = count.fit_transform(df['bag of words'])"
   ]
  },
  {
   "cell_type": "code",
   "execution_count": 188,
   "metadata": {},
   "outputs": [
    {
     "data": {
      "text/plain": [
       "<1000x7653 sparse matrix of type '<class 'numpy.int64'>'\n",
       "\twith 25990 stored elements in Compressed Sparse Row format>"
      ]
     },
     "execution_count": 188,
     "metadata": {},
     "output_type": "execute_result"
    }
   ],
   "source": [
    "count_matrix"
   ]
  },
  {
   "cell_type": "code",
   "execution_count": 189,
   "metadata": {},
   "outputs": [],
   "source": [
    "c = count_matrix.todense()"
   ]
  },
  {
   "cell_type": "code",
   "execution_count": 190,
   "metadata": {},
   "outputs": [
    {
     "data": {
      "text/plain": [
       "matrix([[0, 0, 0, ..., 0, 0, 0],\n",
       "        [0, 0, 0, ..., 0, 0, 0],\n",
       "        [0, 0, 0, ..., 0, 0, 0],\n",
       "        ...,\n",
       "        [0, 0, 0, ..., 0, 0, 0],\n",
       "        [0, 0, 0, ..., 0, 0, 0],\n",
       "        [0, 0, 0, ..., 0, 0, 0]])"
      ]
     },
     "execution_count": 190,
     "metadata": {},
     "output_type": "execute_result"
    }
   ],
   "source": [
    "c"
   ]
  },
  {
   "cell_type": "code",
   "execution_count": 196,
   "metadata": {},
   "outputs": [
    {
     "name": "stdout",
     "output_type": "stream",
     "text": [
      "  (0, 2007)\t1\n",
      "  (0, 3343)\t1\n",
      "  (0, 4422)\t1\n",
      "  (0, 817)\t1\n",
      "  (0, 4978)\t1\n",
      "  (0, 4845)\t1\n",
      "  (0, 4881)\t2\n",
      "  (0, 7601)\t1\n",
      "  (0, 2557)\t1\n",
      "  (0, 6352)\t1\n",
      "  (0, 363)\t1\n",
      "  (0, 2300)\t1\n",
      "  (0, 5575)\t1\n",
      "  (0, 6901)\t1\n",
      "  (0, 166)\t1\n",
      "  (0, 1353)\t1\n",
      "  (0, 1686)\t1\n",
      "  (0, 2672)\t1\n",
      "  (0, 6923)\t1\n"
     ]
    }
   ],
   "source": [
    "print(count_matrix[0,:])"
   ]
  },
  {
   "cell_type": "markdown",
   "metadata": {},
   "source": [
    "### Applying cosine similarity on the data frame and seeing the result matrix"
   ]
  },
  {
   "cell_type": "code",
   "execution_count": 197,
   "metadata": {},
   "outputs": [
    {
     "data": {
      "text/plain": [
       "array([[1.        , 0.08891084, 0.225913  , ..., 0.03413944, 0.18463724,\n",
       "        0.05248639],\n",
       "       [0.08891084, 1.        , 0.22094727, ..., 0.13355611, 0.09028939,\n",
       "        0.12833175],\n",
       "       [0.225913  , 0.22094727, 1.        , ..., 0.10604746, 0.42059551,\n",
       "        0.35868506],\n",
       "       ...,\n",
       "       [0.03413944, 0.13355611, 0.10604746, ..., 1.        , 0.16178756,\n",
       "        0.15768331],\n",
       "       [0.18463724, 0.09028939, 0.42059551, ..., 0.16178756, 1.        ,\n",
       "        0.21320072],\n",
       "       [0.05248639, 0.12833175, 0.35868506, ..., 0.15768331, 0.21320072,\n",
       "        1.        ]])"
      ]
     },
     "execution_count": 197,
     "metadata": {},
     "output_type": "execute_result"
    }
   ],
   "source": [
    "cosine_sim = cosine_similarity(count_matrix, count_matrix)\n",
    "cosine_sim"
   ]
  },
  {
   "cell_type": "code",
   "execution_count": 198,
   "metadata": {},
   "outputs": [
    {
     "data": {
      "text/plain": [
       "0                              The Shawshank Redemption\n",
       "1                                         The Godfather\n",
       "2                                       The Dark Knight\n",
       "3                                The Godfather: Part II\n",
       "4                                          12 Angry Men\n",
       "5         The Lord of the Rings: The Return of the King\n",
       "6                                          Pulp Fiction\n",
       "7                                      Schindler's List\n",
       "8                                             Inception\n",
       "9                                            Fight Club\n",
       "10    The Lord of the Rings: The Fellowship of the Ring\n",
       "11                                         Forrest Gump\n",
       "12                      Il buono, il brutto, il cattivo\n",
       "13                The Lord of the Rings: The Two Towers\n",
       "14                                           The Matrix\n",
       "15                                           Goodfellas\n",
       "16       Star Wars: Episode V - The Empire Strikes Back\n",
       "17                      One Flew Over the Cuckoo's Nest\n",
       "18                                             Hamilton\n",
       "19                                         Gisaengchung\n",
       "Name: Series_Title, dtype: object"
      ]
     },
     "execution_count": 198,
     "metadata": {},
     "output_type": "execute_result"
    }
   ],
   "source": [
    "indices = pd.Series(df.index)\n",
    "indices[:20]"
   ]
  },
  {
   "cell_type": "markdown",
   "metadata": {},
   "source": [
    "### Recommendation function which lists the top 10 movies based on cosine similarity near to 1"
   ]
  },
  {
   "cell_type": "code",
   "execution_count": 200,
   "metadata": {},
   "outputs": [],
   "source": [
    "def recommendations(title, cosine_sim = cosine_sim):\n",
    "    recommended_movies = []\n",
    "\n",
    "    idx = indices[indices == title].index[0]\n",
    "\n",
    "    score_series = pd.Series(cosine_sim[idx]).sort_values(ascending= False)\n",
    "\n",
    "    top_10_Movies = list(score_series.iloc[1:11].index)\n",
    "    print(top_10_Movies)\n",
    "\n",
    "    for i in top_10_Movies:\n",
    "        recommended_movies.append(list(df.index)[i])\n",
    "\n",
    "    return recommended_movies"
   ]
  },
  {
   "cell_type": "markdown",
   "metadata": {},
   "source": [
    "### Testing the output"
   ]
  },
  {
   "cell_type": "code",
   "execution_count": 209,
   "metadata": {},
   "outputs": [
    {
     "name": "stdout",
     "output_type": "stream",
     "text": [
      "[473, 462, 189, 63, 496, 909, 337, 149, 616, 779]\n"
     ]
    },
    {
     "data": {
      "text/plain": [
       "['Thor: Ragnarok',\n",
       " 'Bronenosets Potemkin',\n",
       " 'Rashômon',\n",
       " 'The Dark Knight Rises',\n",
       " 'Letters from Iwo Jima',\n",
       " 'Celda 211',\n",
       " 'Serbuan maut 2: Berandal',\n",
       " 'There Will Be Blood',\n",
       " 'The Boy in the Striped Pyjamas',\n",
       " 'Ray']"
      ]
     },
     "execution_count": 209,
     "metadata": {},
     "output_type": "execute_result"
    }
   ],
   "source": [
    "recommendations('The Dark Knight')"
   ]
  }
 ],
 "metadata": {
  "kernelspec": {
   "display_name": "Python 3",
   "language": "python",
   "name": "python3"
  },
  "language_info": {
   "codemirror_mode": {
    "name": "ipython",
    "version": 3
   },
   "file_extension": ".py",
   "mimetype": "text/x-python",
   "name": "python",
   "nbconvert_exporter": "python",
   "pygments_lexer": "ipython3",
   "version": "3.9.6"
  }
 },
 "nbformat": 4,
 "nbformat_minor": 2
}
